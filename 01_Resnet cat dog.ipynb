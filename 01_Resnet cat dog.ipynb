{
 "cells": [
  {
   "cell_type": "code",
   "execution_count": 1,
   "metadata": {
    "colab": {
     "base_uri": "https://localhost:8080/",
     "height": 34
    },
    "id": "CGARNsENt_c6",
    "outputId": "8e4786a3-632b-4bab-d751-6faed20796a1"
   },
   "outputs": [
    {
     "name": "stdout",
     "output_type": "stream",
     "text": [
      "Mounted at /content/gdrive\n"
     ]
    }
   ],
   "source": [
    "from google.colab import drive\n",
    "drive.mount('/content/gdrive')"
   ]
  },
  {
   "cell_type": "code",
   "execution_count": 2,
   "metadata": {
    "colab": {
     "base_uri": "https://localhost:8080/",
     "height": 34
    },
    "id": "7WRlC6I4uEDz",
    "outputId": "7e4b1b15-abc1-45c4-a72a-e6f5c6c32e5a"
   },
   "outputs": [
    {
     "name": "stdout",
     "output_type": "stream",
     "text": [
      "cats_dogs.h5  cats_dogs_resnet.h5  test  train\tvalidation\n"
     ]
    }
   ],
   "source": [
    "!ls '/content/gdrive/My Drive/cat-dogs/New folder'"
   ]
  },
  {
   "cell_type": "code",
   "execution_count": 3,
   "metadata": {
    "id": "3saMTDjWu7ru"
   },
   "outputs": [],
   "source": [
    "import numpy as np\n",
    "import pandas as pd\n",
    "import matplotlib.pyplot as plt\n",
    "%matplotlib inline \n",
    "import cv2\n",
    "import os"
   ]
  },
  {
   "cell_type": "code",
   "execution_count": 4,
   "metadata": {
    "id": "GIOTX1Fovne_"
   },
   "outputs": [],
   "source": [
    "from keras.applications import ResNet50\n",
    "from keras.models import Sequential\n",
    "from keras.layers import Dense"
   ]
  },
  {
   "cell_type": "code",
   "execution_count": 5,
   "metadata": {
    "colab": {
     "base_uri": "https://localhost:8080/",
     "height": 52
    },
    "id": "WVpLvGSpv4xx",
    "outputId": "de4f353d-846d-47a4-95d2-92819c2b4ae8"
   },
   "outputs": [
    {
     "name": "stdout",
     "output_type": "stream",
     "text": [
      "Downloading data from https://storage.googleapis.com/tensorflow/keras-applications/resnet/resnet50_weights_tf_dim_ordering_tf_kernels_notop.h5\n",
      "94773248/94765736 [==============================] - 2s 0us/step\n"
     ]
    }
   ],
   "source": [
    "model = Sequential()\n",
    "# Sequential needed for add method\n",
    "model.add(ResNet50(include_top = False, pooling = 'avg' ,weights = 'imagenet'))\n",
    "model.add(Dense(2, activation='softmax'))\n",
    "model.layers[0].trainable = False"
   ]
  },
  {
   "cell_type": "code",
   "execution_count": 6,
   "metadata": {
    "colab": {
     "base_uri": "https://localhost:8080/",
     "height": 228
    },
    "id": "gN1jEOi1v6qX",
    "outputId": "0cbf3ba0-0729-4e19-a808-f008068c2013"
   },
   "outputs": [
    {
     "name": "stdout",
     "output_type": "stream",
     "text": [
      "Model: \"sequential\"\n",
      "_________________________________________________________________\n",
      "Layer (type)                 Output Shape              Param #   \n",
      "=================================================================\n",
      "resnet50 (Functional)        (None, 2048)              23587712  \n",
      "_________________________________________________________________\n",
      "dense (Dense)                (None, 2)                 4098      \n",
      "=================================================================\n",
      "Total params: 23,591,810\n",
      "Trainable params: 4,098\n",
      "Non-trainable params: 23,587,712\n",
      "_________________________________________________________________\n"
     ]
    }
   ],
   "source": [
    "model.summary()"
   ]
  },
  {
   "cell_type": "code",
   "execution_count": 7,
   "metadata": {
    "id": "7jRoqKxewBxW"
   },
   "outputs": [],
   "source": [
    "from keras import optimizers\n",
    "sgd = 'sgd'\n",
    "model.compile(optimizer=sgd, loss='categorical_crossentropy', metrics=['acc'])"
   ]
  },
  {
   "cell_type": "code",
   "execution_count": 8,
   "metadata": {
    "id": "xnXHTE3NwEZI"
   },
   "outputs": [],
   "source": [
    "from keras.applications.resnet50 import preprocess_input\n",
    "from keras.preprocessing.image import ImageDataGenerator"
   ]
  },
  {
   "cell_type": "code",
   "execution_count": 9,
   "metadata": {
    "id": "Zeqqj_f_wF6t"
   },
   "outputs": [],
   "source": [
    "train_data_generator = ImageDataGenerator(preprocess_input, \n",
    "                                          horizontal_flip=True,\n",
    "                                   width_shift_range = 0.2,\n",
    "                                   height_shift_range = 0.2)\n",
    "\n",
    "validation_data_generator = ImageDataGenerator(preprocess_input)"
   ]
  },
  {
   "cell_type": "code",
   "execution_count": 10,
   "metadata": {
    "colab": {
     "base_uri": "https://localhost:8080/",
     "height": 52
    },
    "id": "HOcUtlMJwHcd",
    "outputId": "d2f8ea3d-3ca8-47b9-c2ed-7f3bd6b2f9af"
   },
   "outputs": [
    {
     "name": "stdout",
     "output_type": "stream",
     "text": [
      "Found 2000 images belonging to 2 classes.\n",
      "Found 800 images belonging to 2 classes.\n"
     ]
    }
   ],
   "source": [
    "train_generator = train_data_generator.flow_from_directory(\n",
    "    '/content/gdrive/My Drive/cat-dogs/New folder/train',\n",
    "    target_size=(224, 224),\n",
    "    batch_size = 32,\n",
    "    class_mode='categorical'\n",
    ")\n",
    "validation_generator = validation_data_generator.flow_from_directory(\n",
    "    '/content/gdrive/My Drive/cat-dogs/New folder/validation',\n",
    "     target_size=(224, 224),\n",
    "    batch_size = 32,\n",
    "    class_mode='categorical'\n",
    ")"
   ]
  },
  {
   "cell_type": "code",
   "execution_count": 11,
   "metadata": {
    "colab": {
     "base_uri": "https://localhost:8080/",
     "height": 477
    },
    "id": "MZqWocmbwQBt",
    "outputId": "46ff8b12-f01b-4fa3-8997-ed299f39079a"
   },
   "outputs": [
    {
     "name": "stdout",
     "output_type": "stream",
     "text": [
      "WARNING:tensorflow:From <ipython-input-11-8ce148f59994>:6: Model.fit_generator (from tensorflow.python.keras.engine.training) is deprecated and will be removed in a future version.\n",
      "Instructions for updating:\n",
      "Please use Model.fit, which supports generators.\n"
     ]
    },
    {
     "name": "stderr",
     "output_type": "stream",
     "text": [
      "/usr/local/lib/python3.6/dist-packages/keras_preprocessing/image/image_data_generator.py:720: UserWarning: This ImageDataGenerator specifies `featurewise_center`, but it hasn't been fit on any training data. Fit it first by calling `.fit(numpy_data)`.\n",
      "  warnings.warn('This ImageDataGenerator specifies '\n"
     ]
    },
    {
     "name": "stdout",
     "output_type": "stream",
     "text": [
      "Epoch 1/10\n",
      "62/62 [==============================] - 1004s 16s/step - loss: 0.2755 - acc: 0.8994 - val_loss: 0.0969 - val_acc: 0.9675\n",
      "Epoch 2/10\n",
      "62/62 [==============================] - 31s 505ms/step - loss: 0.0987 - acc: 0.9593 - val_loss: 0.0952 - val_acc: 0.9600\n",
      "Epoch 3/10\n",
      "62/62 [==============================] - 31s 506ms/step - loss: 0.0808 - acc: 0.9715 - val_loss: 0.1002 - val_acc: 0.9588\n",
      "Epoch 4/10\n",
      "62/62 [==============================] - 31s 505ms/step - loss: 0.0734 - acc: 0.9715 - val_loss: 0.0862 - val_acc: 0.9600\n",
      "Epoch 5/10\n",
      "62/62 [==============================] - 31s 494ms/step - loss: 0.0650 - acc: 0.9756 - val_loss: 0.0935 - val_acc: 0.9588\n",
      "Epoch 6/10\n",
      "62/62 [==============================] - 31s 493ms/step - loss: 0.0691 - acc: 0.9766 - val_loss: 0.1025 - val_acc: 0.9563\n",
      "Epoch 7/10\n",
      "62/62 [==============================] - 31s 496ms/step - loss: 0.0615 - acc: 0.9771 - val_loss: 0.0880 - val_acc: 0.9588\n",
      "Epoch 8/10\n",
      "62/62 [==============================] - 31s 494ms/step - loss: 0.0611 - acc: 0.9787 - val_loss: 0.0654 - val_acc: 0.9712\n",
      "Epoch 9/10\n",
      "62/62 [==============================] - 31s 494ms/step - loss: 0.0551 - acc: 0.9746 - val_loss: 0.0768 - val_acc: 0.9650\n",
      "Epoch 10/10\n",
      "62/62 [==============================] - 30s 490ms/step - loss: 0.0503 - acc: 0.9827 - val_loss: 0.0710 - val_acc: 0.9688\n"
     ]
    }
   ],
   "source": [
    "fit_history = model.fit_generator(\n",
    "    train_generator,\n",
    "    steps_per_epoch=2000//32,\n",
    "    validation_data=validation_generator,\n",
    "    validation_steps=800//32,\n",
    "    epochs=10\n",
    ")"
   ]
  },
  {
   "cell_type": "code",
   "execution_count": 12,
   "metadata": {
    "id": "CGWxCDZ1wTaG"
   },
   "outputs": [],
   "source": [
    "# 94 sgd\n",
    "# 84 adam\n",
    "# new data agumn 98"
   ]
  },
  {
   "cell_type": "code",
   "execution_count": 13,
   "metadata": {
    "id": "BH9poALT2OiB"
   },
   "outputs": [],
   "source": [
    "model.save('/content/gdrive/My Drive/cat-dogs/New folder/cats_dogs_resnet.h5')"
   ]
  },
  {
   "cell_type": "code",
   "execution_count": 14,
   "metadata": {
    "colab": {
     "base_uri": "https://localhost:8080/",
     "height": 281
    },
    "id": "N6PWaU_nYhjy",
    "outputId": "be41ceb9-3a0a-4bf3-fb67-ad821c903959"
   },
   "outputs": [
    {
     "data": {
      "image/png": "[encoded data removed]",
      "text/plain": [
       "<Figure size 432x288 with 1 Axes>"
      ]
     },
     "metadata": {
      "needs_background": "light",
      "tags": []
     },
     "output_type": "display_data"
    }
   ],
   "source": [
    "acc = fit_history.history['acc']\n",
    "val_acc = fit_history.history['val_acc']\n",
    "\n",
    "epochs = range(len(acc))\n",
    "\n",
    "plt.plot(epochs, acc, 'bo', label='Training acc')\n",
    "plt.plot(epochs, val_acc, 'b', label='Validation acc')\n",
    "plt.title('Training and validation accuracy')\n",
    "plt.legend()\n",
    "\n",
    "plt.show()"
   ]
  },
  {
   "cell_type": "code",
   "execution_count": null,
   "metadata": {
    "id": "HKk8u6vQVqXU"
   },
   "outputs": [],
   "source": []
  }
 ],
 "metadata": {
  "accelerator": "GPU",
  "colab": {
   "collapsed_sections": [],
   "name": "Untitled11.ipynb",
   "provenance": []
  },
  "kernelspec": {
   "display_name": "Python 3",
   "language": "python",
   "name": "python3"
  },
  "language_info": {
   "codemirror_mode": {
    "name": "ipython",
    "version": 3
   },
   "file_extension": ".py",
   "mimetype": "text/x-python",
   "name": "python",
   "nbconvert_exporter": "python",
   "pygments_lexer": "ipython3",
   "version": "3.7.6"
  }
 },
 "nbformat": 4,
 "nbformat_minor": 1
}
